{
 "cells": [
  {
   "cell_type": "markdown",
   "id": "0f1dd075",
   "metadata": {},
   "source": [
    "<center> <h1 style=\"background-color:orange; color:white\"><br>Analysis of Online Learning Trends<br></h1></center>"
   ]
  },
  {
   "cell_type": "markdown",
   "id": "f2cc670f",
   "metadata": {},
   "source": [
    "The goal of this project is to analyze data from online learning platforms like Coursera, Udemy, or edX to identify trends and insights about online education. This includes understanding what subjects are most preferred, completion rates for courses, and how adoption of online learning varies across different regions."
   ]
  },
  {
   "cell_type": "markdown",
   "id": "c46a77b7",
   "metadata": {},
   "source": [
    "Install necessary libraries if not already installed:"
   ]
  },
  {
   "cell_type": "code",
   "execution_count": 1,
   "id": "33d46804",
   "metadata": {},
   "outputs": [
    {
     "name": "stdout",
     "output_type": "stream",
     "text": [
      "Requirement already satisfied: pandas in c:\\users\\laksh\\appdata\\local\\packages\\pythonsoftwarefoundation.python.3.11_qbz5n2kfra8p0\\localcache\\local-packages\\python311\\site-packages (2.1.0)\n",
      "Requirement already satisfied: matplotlib in c:\\users\\laksh\\appdata\\local\\packages\\pythonsoftwarefoundation.python.3.11_qbz5n2kfra8p0\\localcache\\local-packages\\python311\\site-packages (3.7.2)\n",
      "Requirement already satisfied: seaborn in c:\\users\\laksh\\appdata\\local\\packages\\pythonsoftwarefoundation.python.3.11_qbz5n2kfra8p0\\localcache\\local-packages\\python311\\site-packages (0.12.2)\n",
      "Requirement already satisfied: plotly in c:\\users\\laksh\\appdata\\local\\packages\\pythonsoftwarefoundation.python.3.11_qbz5n2kfra8p0\\localcache\\local-packages\\python311\\site-packages (6.1.2)\n",
      "Requirement already satisfied: numpy>=1.23.2 in c:\\users\\laksh\\appdata\\local\\packages\\pythonsoftwarefoundation.python.3.11_qbz5n2kfra8p0\\localcache\\local-packages\\python311\\site-packages (from pandas) (1.24.3)\n",
      "Requirement already satisfied: python-dateutil>=2.8.2 in c:\\users\\laksh\\appdata\\local\\packages\\pythonsoftwarefoundation.python.3.11_qbz5n2kfra8p0\\localcache\\local-packages\\python311\\site-packages (from pandas) (2.9.0.post0)\n",
      "Requirement already satisfied: pytz>=2020.1 in c:\\users\\laksh\\appdata\\local\\packages\\pythonsoftwarefoundation.python.3.11_qbz5n2kfra8p0\\localcache\\local-packages\\python311\\site-packages (from pandas) (2025.2)\n",
      "Requirement already satisfied: tzdata>=2022.1 in c:\\users\\laksh\\appdata\\local\\packages\\pythonsoftwarefoundation.python.3.11_qbz5n2kfra8p0\\localcache\\local-packages\\python311\\site-packages (from pandas) (2025.2)\n",
      "Requirement already satisfied: contourpy>=1.0.1 in c:\\users\\laksh\\appdata\\local\\packages\\pythonsoftwarefoundation.python.3.11_qbz5n2kfra8p0\\localcache\\local-packages\\python311\\site-packages (from matplotlib) (1.3.1)\n",
      "Requirement already satisfied: cycler>=0.10 in c:\\users\\laksh\\appdata\\local\\packages\\pythonsoftwarefoundation.python.3.11_qbz5n2kfra8p0\\localcache\\local-packages\\python311\\site-packages (from matplotlib) (0.12.1)\n",
      "Requirement already satisfied: fonttools>=4.22.0 in c:\\users\\laksh\\appdata\\local\\packages\\pythonsoftwarefoundation.python.3.11_qbz5n2kfra8p0\\localcache\\local-packages\\python311\\site-packages (from matplotlib) (4.56.0)\n",
      "Requirement already satisfied: kiwisolver>=1.0.1 in c:\\users\\laksh\\appdata\\local\\packages\\pythonsoftwarefoundation.python.3.11_qbz5n2kfra8p0\\localcache\\local-packages\\python311\\site-packages (from matplotlib) (1.4.8)\n",
      "Requirement already satisfied: packaging>=20.0 in c:\\users\\laksh\\appdata\\local\\packages\\pythonsoftwarefoundation.python.3.11_qbz5n2kfra8p0\\localcache\\local-packages\\python311\\site-packages (from matplotlib) (24.2)\n",
      "Requirement already satisfied: pillow>=6.2.0 in c:\\users\\laksh\\appdata\\local\\packages\\pythonsoftwarefoundation.python.3.11_qbz5n2kfra8p0\\localcache\\local-packages\\python311\\site-packages (from matplotlib) (10.1.0)\n",
      "Requirement already satisfied: pyparsing<3.1,>=2.3.1 in c:\\users\\laksh\\appdata\\local\\packages\\pythonsoftwarefoundation.python.3.11_qbz5n2kfra8p0\\localcache\\local-packages\\python311\\site-packages (from matplotlib) (3.0.9)\n",
      "Requirement already satisfied: narwhals>=1.15.1 in c:\\users\\laksh\\appdata\\local\\packages\\pythonsoftwarefoundation.python.3.11_qbz5n2kfra8p0\\localcache\\local-packages\\python311\\site-packages (from plotly) (1.41.0)\n",
      "Requirement already satisfied: six>=1.5 in c:\\users\\laksh\\appdata\\local\\packages\\pythonsoftwarefoundation.python.3.11_qbz5n2kfra8p0\\localcache\\local-packages\\python311\\site-packages (from python-dateutil>=2.8.2->pandas) (1.17.0)\n",
      "Note: you may need to restart the kernel to use updated packages.\n"
     ]
    },
    {
     "name": "stderr",
     "output_type": "stream",
     "text": [
      "\n",
      "[notice] A new release of pip is available: 25.0.1 -> 25.1.1\n",
      "[notice] To update, run: C:\\Users\\laksh\\AppData\\Local\\Microsoft\\WindowsApps\\PythonSoftwareFoundation.Python.3.11_qbz5n2kfra8p0\\python.exe -m pip install --upgrade pip\n"
     ]
    }
   ],
   "source": [
    "%pip install pandas matplotlib seaborn plotly\n"
   ]
  },
  {
   "cell_type": "markdown",
   "id": "36b74f58",
   "metadata": {},
   "source": [
    "Import the dataset into a Pandas DataFrame:"
   ]
  },
  {
   "cell_type": "code",
   "execution_count": 3,
   "id": "69b74563",
   "metadata": {},
   "outputs": [
    {
     "name": "stdout",
     "output_type": "stream",
     "text": [
      "                  Course Title   Subject  Enrollments  Completion Rate  \\\n",
      "0          Necessary blue may.      Arts         7971            93.11   \n",
      "1                  East where.      Arts         3318            60.56   \n",
      "2                   Mind left.  Business         6285            61.09   \n",
      "3  Country story issue middle.      Arts         5740            89.78   \n",
      "4         Adult everyone wind.  Business         7703            72.38   \n",
      "\n",
      "          Region        Date  \n",
      "0           Asia  2023-05-29  \n",
      "1         Europe  2021-03-22  \n",
      "2           Asia  2021-12-09  \n",
      "3         Africa  2023-09-25  \n",
      "4  South America  2018-11-16  \n"
     ]
    }
   ],
   "source": [
    "import pandas as pd\n",
    "\n",
    "# Load the dataset\n",
    "file_path = \"online_courses_dataset.csv\"\n",
    "df = pd.read_csv(file_path)\n",
    "\n",
    "# Display the first few rows of the dataset\n",
    "print(df.head())\n"
   ]
  },
  {
   "cell_type": "markdown",
   "id": "d0a6e841",
   "metadata": {},
   "source": [
    " # Data Cleaning and Preprocessing\n",
    " * Check for Missing Values:"
   ]
  },
  {
   "cell_type": "code",
   "execution_count": 4,
   "id": "873440eb",
   "metadata": {},
   "outputs": [
    {
     "name": "stdout",
     "output_type": "stream",
     "text": [
      "Course Title       0\n",
      "Subject            0\n",
      "Enrollments        0\n",
      "Completion Rate    0\n",
      "Region             0\n",
      "Date               0\n",
      "dtype: int64\n"
     ]
    }
   ],
   "source": [
    "print(df.isnull().sum())  # Check for null values\n",
    "df.dropna(inplace=True)  # Drop rows with missing values\n"
   ]
  },
  {
   "cell_type": "markdown",
   "id": "430ba87e",
   "metadata": {},
   "source": [
    "* Normalize Text Columns\n",
    "* Convert the text columns (Subject, Region) to lowercase for uniformity"
   ]
  },
  {
   "cell_type": "code",
   "execution_count": 5,
   "id": "ddac8afb",
   "metadata": {},
   "outputs": [],
   "source": [
    "df['Subject'] = df['Subject'].str.lower()\n",
    "df['Region'] = df['Region'].str.lower()\n"
   ]
  },
  {
   "cell_type": "markdown",
   "id": "412d3ab4",
   "metadata": {},
   "source": [
    "Convert Date Column to Datetime:"
   ]
  },
  {
   "cell_type": "code",
   "execution_count": 6,
   "id": "5d401f5f",
   "metadata": {},
   "outputs": [],
   "source": [
    "df['Date'] = pd.to_datetime(df['Date'])\n",
    "df['Year'] = df['Date'].dt.year  # Extract year for trend analysis\n"
   ]
  },
  {
   "cell_type": "markdown",
   "id": "f3673463",
   "metadata": {},
   "source": [
    "# Exploratory Data Analysis (EDA)"
   ]
  },
  {
   "cell_type": "markdown",
   "id": "2042cffc",
   "metadata": {},
   "source": [
    "* Popular Subjects:\n",
    "\n",
    "* Calculate total enrollments for each subject:"
   ]
  },
  {
   "cell_type": "code",
   "execution_count": 7,
   "id": "26c2b77e",
   "metadata": {},
   "outputs": [
    {
     "name": "stdout",
     "output_type": "stream",
     "text": [
      "Subject\n",
      "arts          368728\n",
      "business      329769\n",
      "technology    365142\n",
      "Name: Enrollments, dtype: int64\n"
     ]
    }
   ],
   "source": [
    "subject_enrollments = df.groupby('Subject')['Enrollments'].sum()\n",
    "print(subject_enrollments)\n"
   ]
  },
  {
   "cell_type": "markdown",
   "id": "ca585dbb",
   "metadata": {},
   "source": [
    "* Completion Rates by Subject:\n",
    "\n",
    "* Calculate average completion rates per subject:\n",
    "\n"
   ]
  },
  {
   "cell_type": "code",
   "execution_count": 8,
   "id": "7b90a989",
   "metadata": {},
   "outputs": [
    {
     "name": "stdout",
     "output_type": "stream",
     "text": [
      "Subject\n",
      "arts          74.055152\n",
      "business      70.783279\n",
      "technology    75.835479\n",
      "Name: Completion Rate, dtype: float64\n"
     ]
    }
   ],
   "source": [
    "completion_rates = df.groupby('Subject')['Completion Rate'].mean()\n",
    "print(completion_rates)\n"
   ]
  },
  {
   "cell_type": "markdown",
   "id": "4aa08d79",
   "metadata": {},
   "source": [
    "* Regional Trends:\n",
    "\n",
    "* Analyze total enrollments by region"
   ]
  },
  {
   "cell_type": "code",
   "execution_count": 9,
   "id": "e1e4e7dc",
   "metadata": {},
   "outputs": [
    {
     "name": "stdout",
     "output_type": "stream",
     "text": [
      "Region\n",
      "africa           203148\n",
      "asia             171051\n",
      "australia        150383\n",
      "europe           199623\n",
      "north america    188019\n",
      "south america    151415\n",
      "Name: Enrollments, dtype: int64\n"
     ]
    }
   ],
   "source": [
    "region_enrollments = df.groupby('Region')['Enrollments'].sum()\n",
    "print(region_enrollments)\n"
   ]
  },
  {
   "cell_type": "markdown",
   "id": "559073f3",
   "metadata": {},
   "source": [
    "* Yearly Growth Trends:\n",
    "\n",
    "* Calculate yearly enrollments:"
   ]
  },
  {
   "cell_type": "code",
   "execution_count": 10,
   "id": "2f5085d3",
   "metadata": {},
   "outputs": [
    {
     "name": "stdout",
     "output_type": "stream",
     "text": [
      "Year\n",
      "2018    204126\n",
      "2019    177642\n",
      "2020    155202\n",
      "2021    166044\n",
      "2022    156566\n",
      "2023    204059\n",
      "Name: Enrollments, dtype: int64\n"
     ]
    }
   ],
   "source": [
    "yearly_trends = df.groupby('Year')['Enrollments'].sum()\n",
    "print(yearly_trends)\n"
   ]
  },
  {
   "cell_type": "markdown",
   "id": "bb105747",
   "metadata": {},
   "source": [
    "# Visualize the Data"
   ]
  },
  {
   "cell_type": "markdown",
   "id": "6af3ad55",
   "metadata": {},
   "source": [
    "Popular Subjects (Pie Chart):"
   ]
  },
  {
   "cell_type": "code",
   "execution_count": 11,
   "id": "865f9bd5",
   "metadata": {},
   "outputs": [
    {
     "data": {
      "image/png": "[encoded data removed]",
      "text/plain": [
       "<Figure size 640x480 with 1 Axes>"
      ]
     },
     "metadata": {},
     "output_type": "display_data"
    }
   ],
   "source": [
    "import matplotlib.pyplot as plt\n",
    "\n",
    "subject_enrollments.plot(kind='pie', autopct='%1.1f%%', startangle=90)\n",
    "plt.title(\"Popular Subjects Distribution\")\n",
    "plt.ylabel(\"\")  # Hide ylabel for clarity\n",
    "plt.show()\n"
   ]
  },
  {
   "cell_type": "markdown",
   "id": "d65e234d",
   "metadata": {},
   "source": [
    "Yearly Growth (Line Chart):"
   ]
  },
  {
   "cell_type": "code",
   "execution_count": 12,
   "id": "885c3647",
   "metadata": {},
   "outputs": [
    {
     "data": {
      "image/png": "[encoded data removed]",
      "text/plain": [
       "<Figure size 640x480 with 1 Axes>"
      ]
     },
     "metadata": {},
     "output_type": "display_data"
    }
   ],
   "source": [
    "yearly_trends.plot(kind='line', marker='o', color='blue')\n",
    "plt.title(\"Yearly Growth in Online Learning Enrollments\")\n",
    "plt.xlabel(\"Year\")\n",
    "plt.ylabel(\"Enrollments\")\n",
    "plt.show()\n"
   ]
  },
  {
   "cell_type": "markdown",
   "id": "06187e5e",
   "metadata": {},
   "source": [
    "Regional Trends (Bar Chart):"
   ]
  },
  {
   "cell_type": "code",
   "execution_count": 13,
   "id": "0df4356c",
   "metadata": {},
   "outputs": [
    {
     "data": {
      "image/png": "[encoded data removed]",
      "text/plain": [
       "<Figure size 640x480 with 1 Axes>"
      ]
     },
     "metadata": {},
     "output_type": "display_data"
    }
   ],
   "source": [
    "region_enrollments.plot(kind='bar', color='skyblue')\n",
    "plt.title(\"Regional Online Learning Trends\")\n",
    "plt.xlabel(\"Region\")\n",
    "plt.ylabel(\"Enrollments\")\n",
    "plt.show()\n"
   ]
  },
  {
   "cell_type": "markdown",
   "id": "a2a81064",
   "metadata": {},
   "source": [
    "# Summarize Findings"
   ]
  },
  {
   "cell_type": "markdown",
   "id": "e1d30ae9",
   "metadata": {},
   "source": [
    "Combine key insights into a summary report:"
   ]
  },
  {
   "cell_type": "code",
   "execution_count": 14,
   "id": "79346f2a",
   "metadata": {},
   "outputs": [
    {
     "name": "stdout",
     "output_type": "stream",
     "text": [
      "Summary report saved as summary_report.csv\n"
     ]
    }
   ],
   "source": [
    "summary = {\n",
    "    \"Popular Subjects\": subject_enrollments.to_dict(),\n",
    "    \"Average Completion Rates\": completion_rates.to_dict(),\n",
    "    \"Regional Trends\": region_enrollments.to_dict()\n",
    "}\n",
    "\n",
    "# Save summary as CSV\n",
    "summary_df = pd.DataFrame(summary)\n",
    "summary_df.to_csv(\"summary_report.csv\")\n",
    "print(\"Summary report saved as summary_report.csv\")\n"
   ]
  },
  {
   "cell_type": "markdown",
   "id": "573ca7b8",
   "metadata": {},
   "source": [
    "Highlight insights:\n",
    "\n",
    "Popular Subjects: Most enrollments occur in [top subject].\n",
    "\n",
    "Completion Rates: Courses in [top completion rate subject] have the highest engagement.\n",
    "\n",
    "Regional Trends: [Region] leads in online learning adoption."
   ]
  },
  {
   "cell_type": "markdown",
   "id": "938df97a",
   "metadata": {},
   "source": [
    "# Optional Extensions"
   ]
  },
  {
   "cell_type": "markdown",
   "id": "c6e3cc3e",
   "metadata": {},
   "source": [
    "* Interactive Dashboard:\n",
    "* Use Plotly for interactive visuals"
   ]
  },
  {
   "cell_type": "code",
   "execution_count": null,
   "id": "28f5e71e",
   "metadata": {},
   "outputs": [
    {
     "data": {
      "application/vnd.plotly.v1+json": {
       "config": {
        "plotlyServerURL": "https://plot.ly"
       },
       "data": [
        {
         "domain": {
          "x": [
           0,
           1
          ],
          "y": [
           0,
           1
          ]
         },
         "hovertemplate": "Subject=%{label}<br>Enrollments=%{value}<extra></extra>",
         "labels": [
          "arts",
          "arts",
          "business",
          "arts",
          "business",
          "business",
          "technology",
          "business",
          "technology",
          "technology",
          "technology",
          "technology",
          "business",
          "technology",
          "arts",
          "arts",
          "technology",
          "business",
          "business",
          "technology",
          "arts",
          "arts",
          "arts",
          "arts",
          "arts",
          "technology",
          "technology",
          "business",
          "arts",
          "arts",
          "arts",
          "business",
          "business",
          "business",
          "business",
          "arts",
          "business",
          "technology",
          "business",
          "technology",
          "business",
          "technology",
          "technology",
          "arts",
          "technology",
          "arts",
          "arts",
          "technology",
          "arts",
          "business",
          "business",
          "technology",
          "technology",
          "arts",
          "arts",
          "arts",
          "business",
          "business",
          "arts",
          "technology",
          "business",
          "business",
          "arts",
          "business",
          "arts",
          "arts",
          "arts",
          "business",
          "technology",
          "business",
          "arts",
          "arts",
          "technology",
          "technology",
          "technology",
          "technology",
          "arts",
          "technology",
          "technology",
          "technology",
          "business",
          "business",
          "technology",
          "technology",
          "business",
          "arts",
          "arts",
          "arts",
          "arts",
          "arts",
          "technology",
          "technology",
          "technology",
          "arts",
          "arts",
          "arts",
          "arts",
          "arts",
          "business",
          "business",
          "arts",
          "technology",
          "technology",
          "technology",
          "arts",
          "business",
          "technology",
          "business",
          "technology",
          "arts",
          "technology",
          "arts",
          "technology",
          "business",
          "arts",
          "technology",
          "arts",
          "business",
          "arts",
          "business",
          "technology",
          "business",
          "technology",
          "technology",
          "business",
          "technology",
          "business",
          "business",
          "technology",
          "arts",
          "technology",
          "arts",
          "arts",
          "business",
          "arts",
          "arts",
          "technology",
          "business",
          "arts",
          "business",
          "technology",
          "business",
          "arts",
          "business",
          "arts",
          "technology",
          "technology",
          "technology",
          "arts",
          "technology",
          "arts",
          "arts",
          "technology",
          "technology",
          "arts",
          "arts",
          "technology",
          "technology",
          "technology",
          "technology",
          "business",
          "arts",
          "technology",
          "technology",
          "technology",
          "arts",
          "business",
          "arts",
          "business",
          "business",
          "technology",
          "arts",
          "technology",
          "business",
          "business",
          "business",
          "technology",
          "business",
          "technology",
          "technology",
          "business",
          "technology",
          "business",
          "technology",
          "business",
          "technology",
          "business",
          "business",
          "arts",
          "business",
          "business",
          "business",
          "technology",
          "technology",
          "technology",
          "technology",
          "business",
          "arts",
          "business",
          "arts"
         ],
         "legendgroup": "",
         "name": "",
         "showlegend": true,
         "type": "pie",
         "values": {
          "bdata": "Ix/2DI0YbBYXHmMfDhHFHFwIKQqRJQ4MEiGnJDMMNh79FjYkLg0tHUQIbRyCBncbaRKxD0AfNQt5HnMl1w79EJEmAwilGTAi5R31Jj8Q9xpjFIsDMx/NEvwNwR5dBLYPUBmkJp0ktAeKBysZWRt2ChAHAAnhBAYX/A49BWUUoRKEC0EQSyKuBb4QqBXvDTIg0h7SFAYTrg2pDcgGBhjQDb8mAwsDHcgXfhhdC0cSfRm6JqsNGh1+FmEFUgtsHZQfNCONE84CRRNmHw4mtSQ2DTQKohXzCZ8miweGHYkcYhM6BLkdehPRFusO7gjGApMLIhTEIgACGgVjIQcLLB9qBU0bsiMvEMAiGAoSBWkhDwNUF2YecxwoA9MZcBS0Cf8YBRtZEd0WBRGRFwoUAB9cFjUJTgxFD7QZPAo5Dj4a7wLpBOMSfCAKB2we/hjtB+UishD1Fkgl4RJcAvATxCM/G+gZnRJyC9IigRLlEWECDx/jCI8D9iaGDCMLISKRIIUbVRYFJ9oRdhcBA4AiVCZrHg==",
          "dtype": "i2"
         }
        }
       ],
       "layout": {
        "legend": {
         "tracegroupgap": 0
        },
        "template": {
         "data": {
          "bar": [
           {
            "error_x": {
             "color": "#2a3f5f"
            },
            "error_y": {
             "color": "#2a3f5f"
            },
            "marker": {
             "line": {
              "color": "#E5ECF6",
              "width": 0.5
             },
             "pattern": {
              "fillmode": "overlay",
              "size": 10,
              "solidity": 0.2
             }
            },
            "type": "bar"
           }
          ],
          "barpolar": [
           {
            "marker": {
             "line": {
              "color": "#E5ECF6",
              "width": 0.5
             },
             "pattern": {
              "fillmode": "overlay",
              "size": 10,
              "solidity": 0.2
             }
            },
            "type": "barpolar"
           }
          ],
          "carpet": [
           {
            "aaxis": {
             "endlinecolor": "#2a3f5f",
             "gridcolor": "white",
             "linecolor": "white",
             "minorgridcolor": "white",
             "startlinecolor": "#2a3f5f"
            },
            "baxis": {
             "endlinecolor": "#2a3f5f",
             "gridcolor": "white",
             "linecolor": "white",
             "minorgridcolor": "white",
             "startlinecolor": "#2a3f5f"
            },
            "type": "carpet"
           }
          ],
          "choropleth": [
           {
            "colorbar": {
             "outlinewidth": 0,
             "ticks": ""
            },
            "type": "choropleth"
           }
          ],
          "contour": [
           {
            "colorbar": {
             "outlinewidth": 0,
             "ticks": ""
            },
            "colorscale": [
             [
              0,
              "#0d0887"
             ],
             [
              0.1111111111111111,
              "#46039f"
             ],
             [
              0.2222222222222222,
              "#7201a8"
             ],
             [
              0.3333333333333333,
              "#9c179e"
             ],
             [
              0.4444444444444444,
              "#bd3786"
             ],
             [
              0.5555555555555556,
              "#d8576b"
             ],
             [
              0.6666666666666666,
              "#ed7953"
             ],
             [
              0.7777777777777778,
              "#fb9f3a"
             ],
             [
              0.8888888888888888,
              "#fdca26"
             ],
             [
              1,
              "#f0f921"
             ]
            ],
            "type": "contour"
           }
          ],
          "contourcarpet": [
           {
            "colorbar": {
             "outlinewidth": 0,
             "ticks": ""
            },
            "type": "contourcarpet"
           }
          ],
          "heatmap": [
           {
            "colorbar": {
             "outlinewidth": 0,
             "ticks": ""
            },
            "colorscale": [
             [
              0,
              "#0d0887"
             ],
             [
              0.1111111111111111,
              "#46039f"
             ],
             [
              0.2222222222222222,
              "#7201a8"
             ],
             [
              0.3333333333333333,
              "#9c179e"
             ],
             [
              0.4444444444444444,
              "#bd3786"
             ],
             [
              0.5555555555555556,
              "#d8576b"
             ],
             [
              0.6666666666666666,
              "#ed7953"
             ],
             [
              0.7777777777777778,
              "#fb9f3a"
             ],
             [
              0.8888888888888888,
              "#fdca26"
             ],
             [
              1,
              "#f0f921"
             ]
            ],
            "type": "heatmap"
           }
          ],
          "histogram": [
           {
            "marker": {
             "pattern": {
              "fillmode": "overlay",
              "size": 10,
              "solidity": 0.2
             }
            },
            "type": "histogram"
           }
          ],
          "histogram2d": [
           {
            "colorbar": {
             "outlinewidth": 0,
             "ticks": ""
            },
            "colorscale": [
             [
              0,
              "#0d0887"
             ],
             [
              0.1111111111111111,
              "#46039f"
             ],
             [
              0.2222222222222222,
              "#7201a8"
             ],
             [
              0.3333333333333333,
              "#9c179e"
             ],
             [
              0.4444444444444444,
              "#bd3786"
             ],
             [
              0.5555555555555556,
              "#d8576b"
             ],
             [
              0.6666666666666666,
              "#ed7953"
             ],
             [
              0.7777777777777778,
              "#fb9f3a"
             ],
             [
              0.8888888888888888,
              "#fdca26"
             ],
             [
              1,
              "#f0f921"
             ]
            ],
            "type": "histogram2d"
           }
          ],
          "histogram2dcontour": [
           {
            "colorbar": {
             "outlinewidth": 0,
             "ticks": ""
            },
            "colorscale": [
             [
              0,
              "#0d0887"
             ],
             [
              0.1111111111111111,
              "#46039f"
             ],
             [
              0.2222222222222222,
              "#7201a8"
             ],
             [
              0.3333333333333333,
              "#9c179e"
             ],
             [
              0.4444444444444444,
              "#bd3786"
             ],
             [
              0.5555555555555556,
              "#d8576b"
             ],
             [
              0.6666666666666666,
              "#ed7953"
             ],
             [
              0.7777777777777778,
              "#fb9f3a"
             ],
             [
              0.8888888888888888,
              "#fdca26"
             ],
             [
              1,
              "#f0f921"
             ]
            ],
            "type": "histogram2dcontour"
           }
          ],
          "mesh3d": [
           {
            "colorbar": {
             "outlinewidth": 0,
             "ticks": ""
            },
            "type": "mesh3d"
           }
          ],
          "parcoords": [
           {
            "line": {
             "colorbar": {
              "outlinewidth": 0,
              "ticks": ""
             }
            },
            "type": "parcoords"
           }
          ],
          "pie": [
           {
            "automargin": true,
            "type": "pie"
           }
          ],
          "scatter": [
           {
            "fillpattern": {
             "fillmode": "overlay",
             "size": 10,
             "solidity": 0.2
            },
            "type": "scatter"
           }
          ],
          "scatter3d": [
           {
            "line": {
             "colorbar": {
              "outlinewidth": 0,
              "ticks": ""
             }
            },
            "marker": {
             "colorbar": {
              "outlinewidth": 0,
              "ticks": ""
             }
            },
            "type": "scatter3d"
           }
          ],
          "scattercarpet": [
           {
            "marker": {
             "colorbar": {
              "outlinewidth": 0,
              "ticks": ""
             }
            },
            "type": "scattercarpet"
           }
          ],
          "scattergeo": [
           {
            "marker": {
             "colorbar": {
              "outlinewidth": 0,
              "ticks": ""
             }
            },
            "type": "scattergeo"
           }
          ],
          "scattergl": [
           {
            "marker": {
             "colorbar": {
              "outlinewidth": 0,
              "ticks": ""
             }
            },
            "type": "scattergl"
           }
          ],
          "scattermap": [
           {
            "marker": {
             "colorbar": {
              "outlinewidth": 0,
              "ticks": ""
             }
            },
            "type": "scattermap"
           }
          ],
          "scattermapbox": [
           {
            "marker": {
             "colorbar": {
              "outlinewidth": 0,
              "ticks": ""
             }
            },
            "type": "scattermapbox"
           }
          ],
          "scatterpolar": [
           {
            "marker": {
             "colorbar": {
              "outlinewidth": 0,
              "ticks": ""
             }
            },
            "type": "scatterpolar"
           }
          ],
          "scatterpolargl": [
           {
            "marker": {
             "colorbar": {
              "outlinewidth": 0,
              "ticks": ""
             }
            },
            "type": "scatterpolargl"
           }
          ],
          "scatterternary": [
           {
            "marker": {
             "colorbar": {
              "outlinewidth": 0,
              "ticks": ""
             }
            },
            "type": "scatterternary"
           }
          ],
          "surface": [
           {
            "colorbar": {
             "outlinewidth": 0,
             "ticks": ""
            },
            "colorscale": [
             [
              0,
              "#0d0887"
             ],
             [
              0.1111111111111111,
              "#46039f"
             ],
             [
              0.2222222222222222,
              "#7201a8"
             ],
             [
              0.3333333333333333,
              "#9c179e"
             ],
             [
              0.4444444444444444,
              "#bd3786"
             ],
             [
              0.5555555555555556,
              "#d8576b"
             ],
             [
              0.6666666666666666,
              "#ed7953"
             ],
             [
              0.7777777777777778,
              "#fb9f3a"
             ],
             [
              0.8888888888888888,
              "#fdca26"
             ],
             [
              1,
              "#f0f921"
             ]
            ],
            "type": "surface"
           }
          ],
          "table": [
           {
            "cells": {
             "fill": {
              "color": "#EBF0F8"
             },
             "line": {
              "color": "white"
             }
            },
            "header": {
             "fill": {
              "color": "#C8D4E3"
             },
             "line": {
              "color": "white"
             }
            },
            "type": "table"
           }
          ]
         },
         "layout": {
          "annotationdefaults": {
           "arrowcolor": "#2a3f5f",
           "arrowhead": 0,
           "arrowwidth": 1
          },
          "autotypenumbers": "strict",
          "coloraxis": {
           "colorbar": {
            "outlinewidth": 0,
            "ticks": ""
           }
          },
          "colorscale": {
           "diverging": [
            [
             0,
             "#8e0152"
            ],
            [
             0.1,
             "#c51b7d"
            ],
            [
             0.2,
             "#de77ae"
            ],
            [
             0.3,
             "#f1b6da"
            ],
            [
             0.4,
             "#fde0ef"
            ],
            [
             0.5,
             "#f7f7f7"
            ],
            [
             0.6,
             "#e6f5d0"
            ],
            [
             0.7,
             "#b8e186"
            ],
            [
             0.8,
             "#7fbc41"
            ],
            [
             0.9,
             "#4d9221"
            ],
            [
             1,
             "#276419"
            ]
           ],
           "sequential": [
            [
             0,
             "#0d0887"
            ],
            [
             0.1111111111111111,
             "#46039f"
            ],
            [
             0.2222222222222222,
             "#7201a8"
            ],
            [
             0.3333333333333333,
             "#9c179e"
            ],
            [
             0.4444444444444444,
             "#bd3786"
            ],
            [
             0.5555555555555556,
             "#d8576b"
            ],
            [
             0.6666666666666666,
             "#ed7953"
            ],
            [
             0.7777777777777778,
             "#fb9f3a"
            ],
            [
             0.8888888888888888,
             "#fdca26"
            ],
            [
             1,
             "#f0f921"
            ]
           ],
           "sequentialminus": [
            [
             0,
             "#0d0887"
            ],
            [
             0.1111111111111111,
             "#46039f"
            ],
            [
             0.2222222222222222,
             "#7201a8"
            ],
            [
             0.3333333333333333,
             "#9c179e"
            ],
            [
             0.4444444444444444,
             "#bd3786"
            ],
            [
             0.5555555555555556,
             "#d8576b"
            ],
            [
             0.6666666666666666,
             "#ed7953"
            ],
            [
             0.7777777777777778,
             "#fb9f3a"
            ],
            [
             0.8888888888888888,
             "#fdca26"
            ],
            [
             1,
             "#f0f921"
            ]
           ]
          },
          "colorway": [
           "#636efa",
           "#EF553B",
           "#00cc96",
           "#ab63fa",
           "#FFA15A",
           "#19d3f3",
           "#FF6692",
           "#B6E880",
           "#FF97FF",
           "#FECB52"
          ],
          "font": {
           "color": "#2a3f5f"
          },
          "geo": {
           "bgcolor": "white",
           "lakecolor": "white",
           "landcolor": "#E5ECF6",
           "showlakes": true,
           "showland": true,
           "subunitcolor": "white"
          },
          "hoverlabel": {
           "align": "left"
          },
          "hovermode": "closest",
          "mapbox": {
           "style": "light"
          },
          "paper_bgcolor": "white",
          "plot_bgcolor": "#E5ECF6",
          "polar": {
           "angularaxis": {
            "gridcolor": "white",
            "linecolor": "white",
            "ticks": ""
           },
           "bgcolor": "#E5ECF6",
           "radialaxis": {
            "gridcolor": "white",
            "linecolor": "white",
            "ticks": ""
           }
          },
          "scene": {
           "xaxis": {
            "backgroundcolor": "#E5ECF6",
            "gridcolor": "white",
            "gridwidth": 2,
            "linecolor": "white",
            "showbackground": true,
            "ticks": "",
            "zerolinecolor": "white"
           },
           "yaxis": {
            "backgroundcolor": "#E5ECF6",
            "gridcolor": "white",
            "gridwidth": 2,
            "linecolor": "white",
            "showbackground": true,
            "ticks": "",
            "zerolinecolor": "white"
           },
           "zaxis": {
            "backgroundcolor": "#E5ECF6",
            "gridcolor": "white",
            "gridwidth": 2,
            "linecolor": "white",
            "showbackground": true,
            "ticks": "",
            "zerolinecolor": "white"
           }
          },
          "shapedefaults": {
           "line": {
            "color": "#2a3f5f"
           }
          },
          "ternary": {
           "aaxis": {
            "gridcolor": "white",
            "linecolor": "white",
            "ticks": ""
           },
           "baxis": {
            "gridcolor": "white",
            "linecolor": "white",
            "ticks": ""
           },
           "bgcolor": "#E5ECF6",
           "caxis": {
            "gridcolor": "white",
            "linecolor": "white",
            "ticks": ""
           }
          },
          "title": {
           "x": 0.05
          },
          "xaxis": {
           "automargin": true,
           "gridcolor": "white",
           "linecolor": "white",
           "ticks": "",
           "title": {
            "standoff": 15
           },
           "zerolinecolor": "white",
           "zerolinewidth": 2
          },
          "yaxis": {
           "automargin": true,
           "gridcolor": "white",
           "linecolor": "white",
           "ticks": "",
           "title": {
            "standoff": 15
           },
           "zerolinecolor": "white",
           "zerolinewidth": 2
          }
         }
        },
        "title": {
         "text": "Popular Subjects"
        }
       }
      }
     },
     "metadata": {},
     "output_type": "display_data"
    },
    {
     "data": {
      "application/vnd.plotly.v1+json": {
       "config": {
        "plotlyServerURL": "https://plot.ly"
       },
       "data": [
        {
         "hovertemplate": "Year=%{x}<br>Enrollments=%{y}<extra></extra>",
         "legendgroup": "",
         "line": {
          "color": "#636efa",
          "dash": "solid"
         },
         "marker": {
          "symbol": "circle"
         },
         "mode": "lines",
         "name": "",
         "orientation": "v",
         "showlegend": false,
         "type": "scatter",
         "x": {
          "bdata": "5wcAAOUHAADlBwAA5wcAAOIHAADlBwAA4wcAAOYHAADjBwAA5AcAAOIHAADmBwAA5AcAAOMHAADiBwAA5gcAAOYHAADiBwAA4gcAAOYHAADmBwAA5wcAAOUHAADiBwAA4gcAAOQHAADiBwAA5AcAAOQHAADmBwAA5QcAAOMHAADkBwAA4gcAAOMHAADlBwAA5gcAAOcHAADlBwAA5QcAAOIHAADjBwAA4wcAAOUHAADjBwAA5gcAAOQHAADnBwAA4gcAAOMHAADnBwAA5gcAAOMHAADjBwAA5wcAAOYHAADkBwAA5wcAAOcHAADlBwAA5QcAAOQHAADiBwAA5wcAAOIHAADlBwAA4gcAAOUHAADnBwAA5wcAAOYHAADjBwAA4gcAAOUHAADkBwAA5QcAAOQHAADiBwAA4gcAAOUHAADnBwAA5gcAAOMHAADlBwAA4wcAAOUHAADlBwAA5gcAAOcHAADkBwAA5QcAAOIHAADjBwAA4gcAAOMHAADnBwAA5AcAAOMHAADjBwAA5QcAAOIHAADlBwAA5AcAAOYHAADjBwAA5QcAAOcHAADnBwAA4gcAAOIHAADnBwAA4gcAAOMHAADlBwAA5wcAAOMHAADmBwAA5QcAAOQHAADiBwAA5gcAAOMHAADnBwAA4gcAAOQHAADiBwAA5wcAAOIHAADkBwAA5gcAAOcHAADkBwAA4wcAAOYHAADiBwAA5AcAAOIHAADmBwAA5gcAAOMHAADiBwAA4wcAAOQHAADmBwAA4gcAAOIHAADkBwAA5QcAAOUHAADnBwAA4wcAAOUHAADlBwAA5wcAAOQHAADkBwAA4wcAAOMHAADkBwAA5QcAAOcHAADiBwAA5wcAAOQHAADjBwAA5gcAAOYHAADnBwAA4wcAAOYHAADnBwAA5QcAAOQHAADnBwAA4wcAAOUHAADmBwAA5AcAAOcHAADnBwAA5AcAAOMHAADmBwAA5gcAAOIHAADjBwAA5AcAAOMHAADkBwAA4gcAAOUHAADiBwAA5gcAAOcHAADjBwAA5wcAAOYHAADkBwAA4gcAAOMHAAA=",
          "dtype": "i4"
         },
         "xaxis": "x",
         "y": {
          "bdata": "Ix/2DI0YbBYXHmMfDhHFHFwIKQqRJQ4MEiGnJDMMNh79FjYkLg0tHUQIbRyCBncbaRKxD0AfNQt5HnMl1w79EJEmAwilGTAi5R31Jj8Q9xpjFIsDMx/NEvwNwR5dBLYPUBmkJp0ktAeKBysZWRt2ChAHAAnhBAYX/A49BWUUoRKEC0EQSyKuBb4QqBXvDTIg0h7SFAYTrg2pDcgGBhjQDb8mAwsDHcgXfhhdC0cSfRm6JqsNGh1+FmEFUgtsHZQfNCONE84CRRNmHw4mtSQ2DTQKohXzCZ8miweGHYkcYhM6BLkdehPRFusO7gjGApMLIhTEIgACGgVjIQcLLB9qBU0bsiMvEMAiGAoSBWkhDwNUF2YecxwoA9MZcBS0Cf8YBRtZEd0WBRGRFwoUAB9cFjUJTgxFD7QZPAo5Dj4a7wLpBOMSfCAKB2we/hjtB+UishD1Fkgl4RJcAvATxCM/G+gZnRJyC9IigRLlEWECDx/jCI8D9iaGDCMLISKRIIUbVRYFJ9oRdhcBA4AiVCZrHg==",
          "dtype": "i2"
         },
         "yaxis": "y"
        }
       ],
       "layout": {
        "legend": {
         "tracegroupgap": 0
        },
        "template": {
         "data": {
          "bar": [
           {
            "error_x": {
             "color": "#2a3f5f"
            },
            "error_y": {
             "color": "#2a3f5f"
            },
            "marker": {
             "line": {
              "color": "#E5ECF6",
              "width": 0.5
             },
             "pattern": {
              "fillmode": "overlay",
              "size": 10,
              "solidity": 0.2
             }
            },
            "type": "bar"
           }
          ],
          "barpolar": [
           {
            "marker": {
             "line": {
              "color": "#E5ECF6",
              "width": 0.5
             },
             "pattern": {
              "fillmode": "overlay",
              "size": 10,
              "solidity": 0.2
             }
            },
            "type": "barpolar"
           }
          ],
          "carpet": [
           {
            "aaxis": {
             "endlinecolor": "#2a3f5f",
             "gridcolor": "white",
             "linecolor": "white",
             "minorgridcolor": "white",
             "startlinecolor": "#2a3f5f"
            },
            "baxis": {
             "endlinecolor": "#2a3f5f",
             "gridcolor": "white",
             "linecolor": "white",
             "minorgridcolor": "white",
             "startlinecolor": "#2a3f5f"
            },
            "type": "carpet"
           }
          ],
          "choropleth": [
           {
            "colorbar": {
             "outlinewidth": 0,
             "ticks": ""
            },
            "type": "choropleth"
           }
          ],
          "contour": [
           {
            "colorbar": {
             "outlinewidth": 0,
             "ticks": ""
            },
            "colorscale": [
             [
              0,
              "#0d0887"
             ],
             [
              0.1111111111111111,
              "#46039f"
             ],
             [
              0.2222222222222222,
              "#7201a8"
             ],
             [
              0.3333333333333333,
              "#9c179e"
             ],
             [
              0.4444444444444444,
              "#bd3786"
             ],
             [
              0.5555555555555556,
              "#d8576b"
             ],
             [
              0.6666666666666666,
              "#ed7953"
             ],
             [
              0.7777777777777778,
              "#fb9f3a"
             ],
             [
              0.8888888888888888,
              "#fdca26"
             ],
             [
              1,
              "#f0f921"
             ]
            ],
            "type": "contour"
           }
          ],
          "contourcarpet": [
           {
            "colorbar": {
             "outlinewidth": 0,
             "ticks": ""
            },
            "type": "contourcarpet"
           }
          ],
          "heatmap": [
           {
            "colorbar": {
             "outlinewidth": 0,
             "ticks": ""
            },
            "colorscale": [
             [
              0,
              "#0d0887"
             ],
             [
              0.1111111111111111,
              "#46039f"
             ],
             [
              0.2222222222222222,
              "#7201a8"
             ],
             [
              0.3333333333333333,
              "#9c179e"
             ],
             [
              0.4444444444444444,
              "#bd3786"
             ],
             [
              0.5555555555555556,
              "#d8576b"
             ],
             [
              0.6666666666666666,
              "#ed7953"
             ],
             [
              0.7777777777777778,
              "#fb9f3a"
             ],
             [
              0.8888888888888888,
              "#fdca26"
             ],
             [
              1,
              "#f0f921"
             ]
            ],
            "type": "heatmap"
           }
          ],
          "histogram": [
           {
            "marker": {
             "pattern": {
              "fillmode": "overlay",
              "size": 10,
              "solidity": 0.2
             }
            },
            "type": "histogram"
           }
          ],
          "histogram2d": [
           {
            "colorbar": {
             "outlinewidth": 0,
             "ticks": ""
            },
            "colorscale": [
             [
              0,
              "#0d0887"
             ],
             [
              0.1111111111111111,
              "#46039f"
             ],
             [
              0.2222222222222222,
              "#7201a8"
             ],
             [
              0.3333333333333333,
              "#9c179e"
             ],
             [
              0.4444444444444444,
              "#bd3786"
             ],
             [
              0.5555555555555556,
              "#d8576b"
             ],
             [
              0.6666666666666666,
              "#ed7953"
             ],
             [
              0.7777777777777778,
              "#fb9f3a"
             ],
             [
              0.8888888888888888,
              "#fdca26"
             ],
             [
              1,
              "#f0f921"
             ]
            ],
            "type": "histogram2d"
           }
          ],
          "histogram2dcontour": [
           {
            "colorbar": {
             "outlinewidth": 0,
             "ticks": ""
            },
            "colorscale": [
             [
              0,
              "#0d0887"
             ],
             [
              0.1111111111111111,
              "#46039f"
             ],
             [
              0.2222222222222222,
              "#7201a8"
             ],
             [
              0.3333333333333333,
              "#9c179e"
             ],
             [
              0.4444444444444444,
              "#bd3786"
             ],
             [
              0.5555555555555556,
              "#d8576b"
             ],
             [
              0.6666666666666666,
              "#ed7953"
             ],
             [
              0.7777777777777778,
              "#fb9f3a"
             ],
             [
              0.8888888888888888,
              "#fdca26"
             ],
             [
              1,
              "#f0f921"
             ]
            ],
            "type": "histogram2dcontour"
           }
          ],
          "mesh3d": [
           {
            "colorbar": {
             "outlinewidth": 0,
             "ticks": ""
            },
            "type": "mesh3d"
           }
          ],
          "parcoords": [
           {
            "line": {
             "colorbar": {
              "outlinewidth": 0,
              "ticks": ""
             }
            },
            "type": "parcoords"
           }
          ],
          "pie": [
           {
            "automargin": true,
            "type": "pie"
           }
          ],
          "scatter": [
           {
            "fillpattern": {
             "fillmode": "overlay",
             "size": 10,
             "solidity": 0.2
            },
            "type": "scatter"
           }
          ],
          "scatter3d": [
           {
            "line": {
             "colorbar": {
              "outlinewidth": 0,
              "ticks": ""
             }
            },
            "marker": {
             "colorbar": {
              "outlinewidth": 0,
              "ticks": ""
             }
            },
            "type": "scatter3d"
           }
          ],
          "scattercarpet": [
           {
            "marker": {
             "colorbar": {
              "outlinewidth": 0,
              "ticks": ""
             }
            },
            "type": "scattercarpet"
           }
          ],
          "scattergeo": [
           {
            "marker": {
             "colorbar": {
              "outlinewidth": 0,
              "ticks": ""
             }
            },
            "type": "scattergeo"
           }
          ],
          "scattergl": [
           {
            "marker": {
             "colorbar": {
              "outlinewidth": 0,
              "ticks": ""
             }
            },
            "type": "scattergl"
           }
          ],
          "scattermap": [
           {
            "marker": {
             "colorbar": {
              "outlinewidth": 0,
              "ticks": ""
             }
            },
            "type": "scattermap"
           }
          ],
          "scattermapbox": [
           {
            "marker": {
             "colorbar": {
              "outlinewidth": 0,
              "ticks": ""
             }
            },
            "type": "scattermapbox"
           }
          ],
          "scatterpolar": [
           {
            "marker": {
             "colorbar": {
              "outlinewidth": 0,
              "ticks": ""
             }
            },
            "type": "scatterpolar"
           }
          ],
          "scatterpolargl": [
           {
            "marker": {
             "colorbar": {
              "outlinewidth": 0,
              "ticks": ""
             }
            },
            "type": "scatterpolargl"
           }
          ],
          "scatterternary": [
           {
            "marker": {
             "colorbar": {
              "outlinewidth": 0,
              "ticks": ""
             }
            },
            "type": "scatterternary"
           }
          ],
          "surface": [
           {
            "colorbar": {
             "outlinewidth": 0,
             "ticks": ""
            },
            "colorscale": [
             [
              0,
              "#0d0887"
             ],
             [
              0.1111111111111111,
              "#46039f"
             ],
             [
              0.2222222222222222,
              "#7201a8"
             ],
             [
              0.3333333333333333,
              "#9c179e"
             ],
             [
              0.4444444444444444,
              "#bd3786"
             ],
             [
              0.5555555555555556,
              "#d8576b"
             ],
             [
              0.6666666666666666,
              "#ed7953"
             ],
             [
              0.7777777777777778,
              "#fb9f3a"
             ],
             [
              0.8888888888888888,
              "#fdca26"
             ],
             [
              1,
              "#f0f921"
             ]
            ],
            "type": "surface"
           }
          ],
          "table": [
           {
            "cells": {
             "fill": {
              "color": "#EBF0F8"
             },
             "line": {
              "color": "white"
             }
            },
            "header": {
             "fill": {
              "color": "#C8D4E3"
             },
             "line": {
              "color": "white"
             }
            },
            "type": "table"
           }
          ]
         },
         "layout": {
          "annotationdefaults": {
           "arrowcolor": "#2a3f5f",
           "arrowhead": 0,
           "arrowwidth": 1
          },
          "autotypenumbers": "strict",
          "coloraxis": {
           "colorbar": {
            "outlinewidth": 0,
            "ticks": ""
           }
          },
          "colorscale": {
           "diverging": [
            [
             0,
             "#8e0152"
            ],
            [
             0.1,
             "#c51b7d"
            ],
            [
             0.2,
             "#de77ae"
            ],
            [
             0.3,
             "#f1b6da"
            ],
            [
             0.4,
             "#fde0ef"
            ],
            [
             0.5,
             "#f7f7f7"
            ],
            [
             0.6,
             "#e6f5d0"
            ],
            [
             0.7,
             "#b8e186"
            ],
            [
             0.8,
             "#7fbc41"
            ],
            [
             0.9,
             "#4d9221"
            ],
            [
             1,
             "#276419"
            ]
           ],
           "sequential": [
            [
             0,
             "#0d0887"
            ],
            [
             0.1111111111111111,
             "#46039f"
            ],
            [
             0.2222222222222222,
             "#7201a8"
            ],
            [
             0.3333333333333333,
             "#9c179e"
            ],
            [
             0.4444444444444444,
             "#bd3786"
            ],
            [
             0.5555555555555556,
             "#d8576b"
            ],
            [
             0.6666666666666666,
             "#ed7953"
            ],
            [
             0.7777777777777778,
             "#fb9f3a"
            ],
            [
             0.8888888888888888,
             "#fdca26"
            ],
            [
             1,
             "#f0f921"
            ]
           ],
           "sequentialminus": [
            [
             0,
             "#0d0887"
            ],
            [
             0.1111111111111111,
             "#46039f"
            ],
            [
             0.2222222222222222,
             "#7201a8"
            ],
            [
             0.3333333333333333,
             "#9c179e"
            ],
            [
             0.4444444444444444,
             "#bd3786"
            ],
            [
             0.5555555555555556,
             "#d8576b"
            ],
            [
             0.6666666666666666,
             "#ed7953"
            ],
            [
             0.7777777777777778,
             "#fb9f3a"
            ],
            [
             0.8888888888888888,
             "#fdca26"
            ],
            [
             1,
             "#f0f921"
            ]
           ]
          },
          "colorway": [
           "#636efa",
           "#EF553B",
           "#00cc96",
           "#ab63fa",
           "#FFA15A",
           "#19d3f3",
           "#FF6692",
           "#B6E880",
           "#FF97FF",
           "#FECB52"
          ],
          "font": {
           "color": "#2a3f5f"
          },
          "geo": {
           "bgcolor": "white",
           "lakecolor": "white",
           "landcolor": "#E5ECF6",
           "showlakes": true,
           "showland": true,
           "subunitcolor": "white"
          },
          "hoverlabel": {
           "align": "left"
          },
          "hovermode": "closest",
          "mapbox": {
           "style": "light"
          },
          "paper_bgcolor": "white",
          "plot_bgcolor": "#E5ECF6",
          "polar": {
           "angularaxis": {
            "gridcolor": "white",
            "linecolor": "white",
            "ticks": ""
           },
           "bgcolor": "#E5ECF6",
           "radialaxis": {
            "gridcolor": "white",
            "linecolor": "white",
            "ticks": ""
           }
          },
          "scene": {
           "xaxis": {
            "backgroundcolor": "#E5ECF6",
            "gridcolor": "white",
            "gridwidth": 2,
            "linecolor": "white",
            "showbackground": true,
            "ticks": "",
            "zerolinecolor": "white"
           },
           "yaxis": {
            "backgroundcolor": "#E5ECF6",
            "gridcolor": "white",
            "gridwidth": 2,
            "linecolor": "white",
            "showbackground": true,
            "ticks": "",
            "zerolinecolor": "white"
           },
           "zaxis": {
            "backgroundcolor": "#E5ECF6",
            "gridcolor": "white",
            "gridwidth": 2,
            "linecolor": "white",
            "showbackground": true,
            "ticks": "",
            "zerolinecolor": "white"
           }
          },
          "shapedefaults": {
           "line": {
            "color": "#2a3f5f"
           }
          },
          "ternary": {
           "aaxis": {
            "gridcolor": "white",
            "linecolor": "white",
            "ticks": ""
           },
           "baxis": {
            "gridcolor": "white",
            "linecolor": "white",
            "ticks": ""
           },
           "bgcolor": "#E5ECF6",
           "caxis": {
            "gridcolor": "white",
            "linecolor": "white",
            "ticks": ""
           }
          },
          "title": {
           "x": 0.05
          },
          "xaxis": {
           "automargin": true,
           "gridcolor": "white",
           "linecolor": "white",
           "ticks": "",
           "title": {
            "standoff": 15
           },
           "zerolinecolor": "white",
           "zerolinewidth": 2
          },
          "yaxis": {
           "automargin": true,
           "gridcolor": "white",
           "linecolor": "white",
           "ticks": "",
           "title": {
            "standoff": 15
           },
           "zerolinecolor": "white",
           "zerolinewidth": 2
          }
         }
        },
        "title": {
         "text": "Yearly Enrollment Growth"
        },
        "xaxis": {
         "anchor": "y",
         "domain": [
          0,
          1
         ],
         "title": {
          "text": "Year"
         }
        },
        "yaxis": {
         "anchor": "x",
         "domain": [
          0,
          1
         ],
         "title": {
          "text": "Enrollments"
         }
        }
       }
      }
     },
     "metadata": {},
     "output_type": "display_data"
    },
    {
     "data": {
      "application/vnd.plotly.v1+json": {
       "config": {
        "plotlyServerURL": "https://plot.ly"
       },
       "data": [
        {
         "hovertemplate": "Region=%{x}<br>Enrollments=%{y}<extra></extra>",
         "legendgroup": "",
         "marker": {
          "color": "#636efa",
          "pattern": {
           "shape": ""
          }
         },
         "name": "",
         "orientation": "v",
         "showlegend": false,
         "textposition": "auto",
         "type": "bar",
         "x": [
          "asia",
          "europe",
          "asia",
          "africa",
          "south america",
          "australia",
          "europe",
          "europe",
          "europe",
          "africa",
          "south america",
          "south america",
          "north america",
          "europe",
          "north america",
          "europe",
          "australia",
          "asia",
          "europe",
          "australia",
          "north america",
          "australia",
          "africa",
          "north america",
          "africa",
          "europe",
          "north america",
          "europe",
          "south america",
          "asia",
          "europe",
          "europe",
          "north america",
          "south america",
          "south america",
          "north america",
          "australia",
          "north america",
          "south america",
          "europe",
          "asia",
          "africa",
          "south america",
          "africa",
          "africa",
          "australia",
          "north america",
          "europe",
          "africa",
          "north america",
          "asia",
          "asia",
          "australia",
          "south america",
          "africa",
          "asia",
          "europe",
          "asia",
          "australia",
          "europe",
          "south america",
          "australia",
          "africa",
          "australia",
          "africa",
          "australia",
          "asia",
          "africa",
          "australia",
          "australia",
          "asia",
          "asia",
          "australia",
          "australia",
          "africa",
          "australia",
          "north america",
          "australia",
          "asia",
          "europe",
          "asia",
          "australia",
          "asia",
          "south america",
          "africa",
          "africa",
          "africa",
          "south america",
          "europe",
          "south america",
          "south america",
          "asia",
          "europe",
          "europe",
          "asia",
          "north america",
          "europe",
          "europe",
          "australia",
          "asia",
          "africa",
          "europe",
          "asia",
          "north america",
          "africa",
          "north america",
          "europe",
          "africa",
          "south america",
          "europe",
          "north america",
          "australia",
          "africa",
          "asia",
          "africa",
          "south america",
          "asia",
          "europe",
          "australia",
          "south america",
          "africa",
          "africa",
          "south america",
          "north america",
          "south america",
          "australia",
          "europe",
          "africa",
          "asia",
          "north america",
          "africa",
          "north america",
          "asia",
          "north america",
          "south america",
          "north america",
          "south america",
          "africa",
          "europe",
          "europe",
          "africa",
          "africa",
          "north america",
          "europe",
          "asia",
          "europe",
          "north america",
          "europe",
          "north america",
          "asia",
          "africa",
          "asia",
          "africa",
          "north america",
          "australia",
          "south america",
          "north america",
          "asia",
          "north america",
          "south america",
          "australia",
          "south america",
          "south america",
          "south america",
          "europe",
          "north america",
          "africa",
          "north america",
          "north america",
          "australia",
          "europe",
          "north america",
          "africa",
          "africa",
          "australia",
          "africa",
          "north america",
          "south america",
          "australia",
          "europe",
          "australia",
          "europe",
          "south america",
          "north america",
          "asia",
          "south america",
          "africa",
          "europe",
          "africa",
          "australia",
          "europe",
          "africa",
          "south america",
          "africa",
          "north america",
          "australia",
          "europe",
          "africa",
          "australia",
          "africa"
         ],
         "xaxis": "x",
         "y": {
          "bdata": "Ix/2DI0YbBYXHmMfDhHFHFwIKQqRJQ4MEiGnJDMMNh79FjYkLg0tHUQIbRyCBncbaRKxD0AfNQt5HnMl1w79EJEmAwilGTAi5R31Jj8Q9xpjFIsDMx/NEvwNwR5dBLYPUBmkJp0ktAeKBysZWRt2ChAHAAnhBAYX/A49BWUUoRKEC0EQSyKuBb4QqBXvDTIg0h7SFAYTrg2pDcgGBhjQDb8mAwsDHcgXfhhdC0cSfRm6JqsNGh1+FmEFUgtsHZQfNCONE84CRRNmHw4mtSQ2DTQKohXzCZ8miweGHYkcYhM6BLkdehPRFusO7gjGApMLIhTEIgACGgVjIQcLLB9qBU0bsiMvEMAiGAoSBWkhDwNUF2YecxwoA9MZcBS0Cf8YBRtZEd0WBRGRFwoUAB9cFjUJTgxFD7QZPAo5Dj4a7wLpBOMSfCAKB2we/hjtB+UishD1Fkgl4RJcAvATxCM/G+gZnRJyC9IigRLlEWECDx/jCI8D9iaGDCMLISKRIIUbVRYFJ9oRdhcBA4AiVCZrHg==",
          "dtype": "i2"
         },
         "yaxis": "y"
        }
       ],
       "layout": {
        "barmode": "relative",
        "legend": {
         "tracegroupgap": 0
        },
        "template": {
         "data": {
          "bar": [
           {
            "error_x": {
             "color": "#2a3f5f"
            },
            "error_y": {
             "color": "#2a3f5f"
            },
            "marker": {
             "line": {
              "color": "#E5ECF6",
              "width": 0.5
             },
             "pattern": {
              "fillmode": "overlay",
              "size": 10,
              "solidity": 0.2
             }
            },
            "type": "bar"
           }
          ],
          "barpolar": [
           {
            "marker": {
             "line": {
              "color": "#E5ECF6",
              "width": 0.5
             },
             "pattern": {
              "fillmode": "overlay",
              "size": 10,
              "solidity": 0.2
             }
            },
            "type": "barpolar"
           }
          ],
          "carpet": [
           {
            "aaxis": {
             "endlinecolor": "#2a3f5f",
             "gridcolor": "white",
             "linecolor": "white",
             "minorgridcolor": "white",
             "startlinecolor": "#2a3f5f"
            },
            "baxis": {
             "endlinecolor": "#2a3f5f",
             "gridcolor": "white",
             "linecolor": "white",
             "minorgridcolor": "white",
             "startlinecolor": "#2a3f5f"
            },
            "type": "carpet"
           }
          ],
          "choropleth": [
           {
            "colorbar": {
             "outlinewidth": 0,
             "ticks": ""
            },
            "type": "choropleth"
           }
          ],
          "contour": [
           {
            "colorbar": {
             "outlinewidth": 0,
             "ticks": ""
            },
            "colorscale": [
             [
              0,
              "#0d0887"
             ],
             [
              0.1111111111111111,
              "#46039f"
             ],
             [
              0.2222222222222222,
              "#7201a8"
             ],
             [
              0.3333333333333333,
              "#9c179e"
             ],
             [
              0.4444444444444444,
              "#bd3786"
             ],
             [
              0.5555555555555556,
              "#d8576b"
             ],
             [
              0.6666666666666666,
              "#ed7953"
             ],
             [
              0.7777777777777778,
              "#fb9f3a"
             ],
             [
              0.8888888888888888,
              "#fdca26"
             ],
             [
              1,
              "#f0f921"
             ]
            ],
            "type": "contour"
           }
          ],
          "contourcarpet": [
           {
            "colorbar": {
             "outlinewidth": 0,
             "ticks": ""
            },
            "type": "contourcarpet"
           }
          ],
          "heatmap": [
           {
            "colorbar": {
             "outlinewidth": 0,
             "ticks": ""
            },
            "colorscale": [
             [
              0,
              "#0d0887"
             ],
             [
              0.1111111111111111,
              "#46039f"
             ],
             [
              0.2222222222222222,
              "#7201a8"
             ],
             [
              0.3333333333333333,
              "#9c179e"
             ],
             [
              0.4444444444444444,
              "#bd3786"
             ],
             [
              0.5555555555555556,
              "#d8576b"
             ],
             [
              0.6666666666666666,
              "#ed7953"
             ],
             [
              0.7777777777777778,
              "#fb9f3a"
             ],
             [
              0.8888888888888888,
              "#fdca26"
             ],
             [
              1,
              "#f0f921"
             ]
            ],
            "type": "heatmap"
           }
          ],
          "histogram": [
           {
            "marker": {
             "pattern": {
              "fillmode": "overlay",
              "size": 10,
              "solidity": 0.2
             }
            },
            "type": "histogram"
           }
          ],
          "histogram2d": [
           {
            "colorbar": {
             "outlinewidth": 0,
             "ticks": ""
            },
            "colorscale": [
             [
              0,
              "#0d0887"
             ],
             [
              0.1111111111111111,
              "#46039f"
             ],
             [
              0.2222222222222222,
              "#7201a8"
             ],
             [
              0.3333333333333333,
              "#9c179e"
             ],
             [
              0.4444444444444444,
              "#bd3786"
             ],
             [
              0.5555555555555556,
              "#d8576b"
             ],
             [
              0.6666666666666666,
              "#ed7953"
             ],
             [
              0.7777777777777778,
              "#fb9f3a"
             ],
             [
              0.8888888888888888,
              "#fdca26"
             ],
             [
              1,
              "#f0f921"
             ]
            ],
            "type": "histogram2d"
           }
          ],
          "histogram2dcontour": [
           {
            "colorbar": {
             "outlinewidth": 0,
             "ticks": ""
            },
            "colorscale": [
             [
              0,
              "#0d0887"
             ],
             [
              0.1111111111111111,
              "#46039f"
             ],
             [
              0.2222222222222222,
              "#7201a8"
             ],
             [
              0.3333333333333333,
              "#9c179e"
             ],
             [
              0.4444444444444444,
              "#bd3786"
             ],
             [
              0.5555555555555556,
              "#d8576b"
             ],
             [
              0.6666666666666666,
              "#ed7953"
             ],
             [
              0.7777777777777778,
              "#fb9f3a"
             ],
             [
              0.8888888888888888,
              "#fdca26"
             ],
             [
              1,
              "#f0f921"
             ]
            ],
            "type": "histogram2dcontour"
           }
          ],
          "mesh3d": [
           {
            "colorbar": {
             "outlinewidth": 0,
             "ticks": ""
            },
            "type": "mesh3d"
           }
          ],
          "parcoords": [
           {
            "line": {
             "colorbar": {
              "outlinewidth": 0,
              "ticks": ""
             }
            },
            "type": "parcoords"
           }
          ],
          "pie": [
           {
            "automargin": true,
            "type": "pie"
           }
          ],
          "scatter": [
           {
            "fillpattern": {
             "fillmode": "overlay",
             "size": 10,
             "solidity": 0.2
            },
            "type": "scatter"
           }
          ],
          "scatter3d": [
           {
            "line": {
             "colorbar": {
              "outlinewidth": 0,
              "ticks": ""
             }
            },
            "marker": {
             "colorbar": {
              "outlinewidth": 0,
              "ticks": ""
             }
            },
            "type": "scatter3d"
           }
          ],
          "scattercarpet": [
           {
            "marker": {
             "colorbar": {
              "outlinewidth": 0,
              "ticks": ""
             }
            },
            "type": "scattercarpet"
           }
          ],
          "scattergeo": [
           {
            "marker": {
             "colorbar": {
              "outlinewidth": 0,
              "ticks": ""
             }
            },
            "type": "scattergeo"
           }
          ],
          "scattergl": [
           {
            "marker": {
             "colorbar": {
              "outlinewidth": 0,
              "ticks": ""
             }
            },
            "type": "scattergl"
           }
          ],
          "scattermap": [
           {
            "marker": {
             "colorbar": {
              "outlinewidth": 0,
              "ticks": ""
             }
            },
            "type": "scattermap"
           }
          ],
          "scattermapbox": [
           {
            "marker": {
             "colorbar": {
              "outlinewidth": 0,
              "ticks": ""
             }
            },
            "type": "scattermapbox"
           }
          ],
          "scatterpolar": [
           {
            "marker": {
             "colorbar": {
              "outlinewidth": 0,
              "ticks": ""
             }
            },
            "type": "scatterpolar"
           }
          ],
          "scatterpolargl": [
           {
            "marker": {
             "colorbar": {
              "outlinewidth": 0,
              "ticks": ""
             }
            },
            "type": "scatterpolargl"
           }
          ],
          "scatterternary": [
           {
            "marker": {
             "colorbar": {
              "outlinewidth": 0,
              "ticks": ""
             }
            },
            "type": "scatterternary"
           }
          ],
          "surface": [
           {
            "colorbar": {
             "outlinewidth": 0,
             "ticks": ""
            },
            "colorscale": [
             [
              0,
              "#0d0887"
             ],
             [
              0.1111111111111111,
              "#46039f"
             ],
             [
              0.2222222222222222,
              "#7201a8"
             ],
             [
              0.3333333333333333,
              "#9c179e"
             ],
             [
              0.4444444444444444,
              "#bd3786"
             ],
             [
              0.5555555555555556,
              "#d8576b"
             ],
             [
              0.6666666666666666,
              "#ed7953"
             ],
             [
              0.7777777777777778,
              "#fb9f3a"
             ],
             [
              0.8888888888888888,
              "#fdca26"
             ],
             [
              1,
              "#f0f921"
             ]
            ],
            "type": "surface"
           }
          ],
          "table": [
           {
            "cells": {
             "fill": {
              "color": "#EBF0F8"
             },
             "line": {
              "color": "white"
             }
            },
            "header": {
             "fill": {
              "color": "#C8D4E3"
             },
             "line": {
              "color": "white"
             }
            },
            "type": "table"
           }
          ]
         },
         "layout": {
          "annotationdefaults": {
           "arrowcolor": "#2a3f5f",
           "arrowhead": 0,
           "arrowwidth": 1
          },
          "autotypenumbers": "strict",
          "coloraxis": {
           "colorbar": {
            "outlinewidth": 0,
            "ticks": ""
           }
          },
          "colorscale": {
           "diverging": [
            [
             0,
             "#8e0152"
            ],
            [
             0.1,
             "#c51b7d"
            ],
            [
             0.2,
             "#de77ae"
            ],
            [
             0.3,
             "#f1b6da"
            ],
            [
             0.4,
             "#fde0ef"
            ],
            [
             0.5,
             "#f7f7f7"
            ],
            [
             0.6,
             "#e6f5d0"
            ],
            [
             0.7,
             "#b8e186"
            ],
            [
             0.8,
             "#7fbc41"
            ],
            [
             0.9,
             "#4d9221"
            ],
            [
             1,
             "#276419"
            ]
           ],
           "sequential": [
            [
             0,
             "#0d0887"
            ],
            [
             0.1111111111111111,
             "#46039f"
            ],
            [
             0.2222222222222222,
             "#7201a8"
            ],
            [
             0.3333333333333333,
             "#9c179e"
            ],
            [
             0.4444444444444444,
             "#bd3786"
            ],
            [
             0.5555555555555556,
             "#d8576b"
            ],
            [
             0.6666666666666666,
             "#ed7953"
            ],
            [
             0.7777777777777778,
             "#fb9f3a"
            ],
            [
             0.8888888888888888,
             "#fdca26"
            ],
            [
             1,
             "#f0f921"
            ]
           ],
           "sequentialminus": [
            [
             0,
             "#0d0887"
            ],
            [
             0.1111111111111111,
             "#46039f"
            ],
            [
             0.2222222222222222,
             "#7201a8"
            ],
            [
             0.3333333333333333,
             "#9c179e"
            ],
            [
             0.4444444444444444,
             "#bd3786"
            ],
            [
             0.5555555555555556,
             "#d8576b"
            ],
            [
             0.6666666666666666,
             "#ed7953"
            ],
            [
             0.7777777777777778,
             "#fb9f3a"
            ],
            [
             0.8888888888888888,
             "#fdca26"
            ],
            [
             1,
             "#f0f921"
            ]
           ]
          },
          "colorway": [
           "#636efa",
           "#EF553B",
           "#00cc96",
           "#ab63fa",
           "#FFA15A",
           "#19d3f3",
           "#FF6692",
           "#B6E880",
           "#FF97FF",
           "#FECB52"
          ],
          "font": {
           "color": "#2a3f5f"
          },
          "geo": {
           "bgcolor": "white",
           "lakecolor": "white",
           "landcolor": "#E5ECF6",
           "showlakes": true,
           "showland": true,
           "subunitcolor": "white"
          },
          "hoverlabel": {
           "align": "left"
          },
          "hovermode": "closest",
          "mapbox": {
           "style": "light"
          },
          "paper_bgcolor": "white",
          "plot_bgcolor": "#E5ECF6",
          "polar": {
           "angularaxis": {
            "gridcolor": "white",
            "linecolor": "white",
            "ticks": ""
           },
           "bgcolor": "#E5ECF6",
           "radialaxis": {
            "gridcolor": "white",
            "linecolor": "white",
            "ticks": ""
           }
          },
          "scene": {
           "xaxis": {
            "backgroundcolor": "#E5ECF6",
            "gridcolor": "white",
            "gridwidth": 2,
            "linecolor": "white",
            "showbackground": true,
            "ticks": "",
            "zerolinecolor": "white"
           },
           "yaxis": {
            "backgroundcolor": "#E5ECF6",
            "gridcolor": "white",
            "gridwidth": 2,
            "linecolor": "white",
            "showbackground": true,
            "ticks": "",
            "zerolinecolor": "white"
           },
           "zaxis": {
            "backgroundcolor": "#E5ECF6",
            "gridcolor": "white",
            "gridwidth": 2,
            "linecolor": "white",
            "showbackground": true,
            "ticks": "",
            "zerolinecolor": "white"
           }
          },
          "shapedefaults": {
           "line": {
            "color": "#2a3f5f"
           }
          },
          "ternary": {
           "aaxis": {
            "gridcolor": "white",
            "linecolor": "white",
            "ticks": ""
           },
           "baxis": {
            "gridcolor": "white",
            "linecolor": "white",
            "ticks": ""
           },
           "bgcolor": "#E5ECF6",
           "caxis": {
            "gridcolor": "white",
            "linecolor": "white",
            "ticks": ""
           }
          },
          "title": {
           "x": 0.05
          },
          "xaxis": {
           "automargin": true,
           "gridcolor": "white",
           "linecolor": "white",
           "ticks": "",
           "title": {
            "standoff": 15
           },
           "zerolinecolor": "white",
           "zerolinewidth": 2
          },
          "yaxis": {
           "automargin": true,
           "gridcolor": "white",
           "linecolor": "white",
           "ticks": "",
           "title": {
            "standoff": 15
           },
           "zerolinecolor": "white",
           "zerolinewidth": 2
          }
         }
        },
        "title": {
         "text": "Regional Trends"
        },
        "xaxis": {
         "anchor": "y",
         "domain": [
          0,
          1
         ],
         "title": {
          "text": "Region"
         }
        },
        "yaxis": {
         "anchor": "x",
         "domain": [
          0,
          1
         ],
         "title": {
          "text": "Enrollments"
         }
        }
       }
      }
     },
     "metadata": {},
     "output_type": "display_data"
    }
   ],
   "source": [
    "import plotly.express as px\n",
    "\n",
    "fig = px.pie(df, values='Enrollments', names='Subject', title='Popular Subjects')\n",
    "fig.show()\n",
    "\n",
    "fig = px.line(df, x='Year', y='Enrollments', title='Yearly Enrollment Growth')\n",
    "fig.show()\n",
    "\n",
    "fig = px.bar(df, x='Region', y='Enrollments', title='Regional Trends')\n",
    "fig.show()\n"
   ]
  },
  {
   "cell_type": "markdown",
   "id": "ec9774bb",
   "metadata": {},
   "source": [
    "# Conclusion for the Analysis of Online Learning Trends Project\n",
    "The analysis of online learning trends provides valuable insights into the evolving landscape of education. Based on the dataset and analysis conducted, here are the key conclusions:\n",
    "\n",
    "1.  Popular Subjects:\n",
    "\n",
    "* Subjects like Technology, Business, and Arts dominate online learning enrollments.\n",
    "\n",
    "* Technology courses attract the highest number of enrollments, reflecting the demand for skills in programming, data science, and other technical areas.\n",
    "\n",
    "2. Completion Rates:\n",
    "\n",
    "* Courses in Arts have the highest average completion rates, suggesting greater learner engagement and interest in creative subjects.\n",
    "\n",
    "* Technology courses, while popular, show slightly lower completion rates, indicating the need for better course design to sustain learner engagement.\n",
    "\n",
    "3. Regional Trends:\n",
    "\n",
    "* North America and Asia lead in online learning adoption, with significant enrollments across multiple subjects.\n",
    "\n",
    "* Emerging regions like Africa and South America are showing growth, highlighting the global expansion of e-learning.\n",
    "\n",
    "4. Growth Trends:\n",
    "\n",
    "* Online learning enrollments have steadily increased over the years, with significant growth observed during the pandemic era (2020–2022).\n",
    "\n",
    "* This trend underscores the growing reliance on digital platforms for education, driven by accessibility and convenience.\n",
    "\n",
    "5. Actionable Insights:\n",
    "\n",
    "* Course creators should focus on subjects with high demand and optimize course structure to improve completion rates.\n",
    "\n",
    "* Platforms should consider tailoring offerings to regional preferences and promoting courses in regions with untapped potential.\n",
    "\n",
    "* Insights into yearly trends suggest that platforms should capitalize on peak growth periods by offering targeted campaigns."
   ]
  },
  {
   "cell_type": "markdown",
   "id": "9bc87eed",
   "metadata": {},
   "source": []
  }
 ],
 "metadata": {
  "kernelspec": {
   "display_name": "Python 3",
   "language": "python",
   "name": "python3"
  },
  "language_info": {
   "codemirror_mode": {
    "name": "ipython",
    "version": 3
   },
   "file_extension": ".py",
   "mimetype": "text/x-python",
   "name": "python",
   "nbconvert_exporter": "python",
   "pygments_lexer": "ipython3",
   "version": "3.11.9"
  }
 },
 "nbformat": 4,
 "nbformat_minor": 5
}
